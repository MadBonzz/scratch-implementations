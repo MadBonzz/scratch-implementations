{
 "cells": [
  {
   "cell_type": "code",
   "execution_count": 1,
   "id": "aedc1a8a",
   "metadata": {
    "execution": {
     "iopub.execute_input": "2025-03-20T11:29:08.926315Z",
     "iopub.status.busy": "2025-03-20T11:29:08.926008Z",
     "iopub.status.idle": "2025-03-20T11:29:12.933551Z",
     "shell.execute_reply": "2025-03-20T11:29:12.932838Z"
    },
    "papermill": {
     "duration": 4.014159,
     "end_time": "2025-03-20T11:29:12.935250",
     "exception": false,
     "start_time": "2025-03-20T11:29:08.921091",
     "status": "completed"
    },
    "tags": []
   },
   "outputs": [],
   "source": [
    "import torch\n",
    "from torch import nn\n",
    "from torch.utils.data import Dataset, DataLoader\n",
    "from torch import optim\n",
    "from torch.optim import AdamW\n",
    "\n",
    "import numpy as np\n",
    "import pandas as pd\n",
    "from tqdm import tqdm\n",
    "import re"
   ]
  },
  {
   "cell_type": "code",
   "execution_count": 2,
   "id": "21db20dd",
   "metadata": {
    "execution": {
     "iopub.execute_input": "2025-03-20T11:29:12.943561Z",
     "iopub.status.busy": "2025-03-20T11:29:12.943179Z",
     "iopub.status.idle": "2025-03-20T11:29:12.999432Z",
     "shell.execute_reply": "2025-03-20T11:29:12.998772Z"
    },
    "papermill": {
     "duration": 0.061714,
     "end_time": "2025-03-20T11:29:13.000827",
     "exception": false,
     "start_time": "2025-03-20T11:29:12.939113",
     "status": "completed"
    },
    "tags": []
   },
   "outputs": [],
   "source": [
    "device = 'cuda' if torch.cuda.is_available() else 'cpu'\n",
    "\n",
    "SEED = 183441\n",
    "np.random.seed(SEED)\n",
    "torch.manual_seed(SEED)\n",
    "if torch.cuda.is_available():\n",
    "    torch.cuda.manual_seed(SEED)\n",
    "    torch.cuda.manual_seed_all(SEED)\n",
    "torch.backends.cudnn.deterministic = True\n",
    "torch.backends.cudnn.benchmark = False"
   ]
  },
  {
   "cell_type": "code",
   "execution_count": 3,
   "id": "f6f6f7cd",
   "metadata": {
    "execution": {
     "iopub.execute_input": "2025-03-20T11:29:13.008355Z",
     "iopub.status.busy": "2025-03-20T11:29:13.008110Z",
     "iopub.status.idle": "2025-03-20T11:32:19.690724Z",
     "shell.execute_reply": "2025-03-20T11:32:19.689770Z"
    },
    "papermill": {
     "duration": 186.688021,
     "end_time": "2025-03-20T11:32:19.692409",
     "exception": false,
     "start_time": "2025-03-20T11:29:13.004388",
     "status": "completed"
    },
    "tags": []
   },
   "outputs": [],
   "source": [
    "train_df = pd.read_csv('/kaggle/input/nmt-23-languages/cleaned-train.csv')\n",
    "test_df  = pd.read_csv('/kaggle/input/nmt-23-languages/cleaned-test.csv')\n",
    "train_df.drop(columns=['Unnamed: 0'], inplace=True)\n",
    "test_df.drop(columns=['Unnamed: 0'], inplace=True)"
   ]
  },
  {
   "cell_type": "code",
   "execution_count": 4,
   "id": "d6a7a622",
   "metadata": {
    "execution": {
     "iopub.execute_input": "2025-03-20T11:32:19.700169Z",
     "iopub.status.busy": "2025-03-20T11:32:19.699922Z",
     "iopub.status.idle": "2025-03-20T11:32:22.146423Z",
     "shell.execute_reply": "2025-03-20T11:32:22.145734Z"
    },
    "papermill": {
     "duration": 2.451863,
     "end_time": "2025-03-20T11:32:22.148024",
     "exception": false,
     "start_time": "2025-03-20T11:32:19.696161",
     "status": "completed"
    },
    "tags": []
   },
   "outputs": [],
   "source": [
    "sent1s = set(train_df[train_df['Lang1'] == 'hin']['Sentence_Lang1'].tolist())\n",
    "sent2s = set(train_df[train_df['Lang2'] == 'hin']['Sentence_Lang2'].tolist())\n",
    "hin_sentences = sent1s.union(sent2s)\n",
    "sentences = list(hin_sentences)"
   ]
  },
  {
   "cell_type": "code",
   "execution_count": 5,
   "id": "fb3eca6c",
   "metadata": {
    "execution": {
     "iopub.execute_input": "2025-03-20T11:32:22.155870Z",
     "iopub.status.busy": "2025-03-20T11:32:22.155606Z",
     "iopub.status.idle": "2025-03-20T11:32:22.159200Z",
     "shell.execute_reply": "2025-03-20T11:32:22.158589Z"
    },
    "papermill": {
     "duration": 0.008763,
     "end_time": "2025-03-20T11:32:22.160305",
     "exception": false,
     "start_time": "2025-03-20T11:32:22.151542",
     "status": "completed"
    },
    "tags": []
   },
   "outputs": [],
   "source": [
    "def remove_special_chars_translate(input_string):\n",
    "    input_string = input_string.replace('\\n', '')\n",
    "    input_string = re.sub(r'\\d+', '', input_string)\n",
    "    special_chars = \"!@#$%^&*()[]{};:,./<>?\\|।'`~-=+\"\n",
    "    translation_table = str.maketrans('', '', special_chars)\n",
    "    return input_string.translate(translation_table)"
   ]
  },
  {
   "cell_type": "code",
   "execution_count": 6,
   "id": "4d6f2b48",
   "metadata": {
    "execution": {
     "iopub.execute_input": "2025-03-20T11:32:22.167639Z",
     "iopub.status.busy": "2025-03-20T11:32:22.167410Z",
     "iopub.status.idle": "2025-03-20T11:32:23.248952Z",
     "shell.execute_reply": "2025-03-20T11:32:23.247973Z"
    },
    "papermill": {
     "duration": 1.08658,
     "end_time": "2025-03-20T11:32:23.250245",
     "exception": false,
     "start_time": "2025-03-20T11:32:22.163665",
     "status": "completed"
    },
    "tags": []
   },
   "outputs": [
    {
     "name": "stderr",
     "output_type": "stream",
     "text": [
      "100%|██████████| 72985/72985 [00:01<00:00, 68050.15it/s]\n"
     ]
    }
   ],
   "source": [
    "for i in tqdm(range(len(sentences))):\n",
    "    sentences[i] = remove_special_chars_translate(sentences[i])"
   ]
  },
  {
   "cell_type": "code",
   "execution_count": 7,
   "id": "73a5f754",
   "metadata": {
    "execution": {
     "iopub.execute_input": "2025-03-20T11:32:23.259097Z",
     "iopub.status.busy": "2025-03-20T11:32:23.258844Z",
     "iopub.status.idle": "2025-03-20T11:33:40.586035Z",
     "shell.execute_reply": "2025-03-20T11:33:40.585008Z"
    },
    "papermill": {
     "duration": 77.332981,
     "end_time": "2025-03-20T11:33:40.587286",
     "exception": false,
     "start_time": "2025-03-20T11:32:23.254305",
     "status": "completed"
    },
    "tags": []
   },
   "outputs": [
    {
     "name": "stderr",
     "output_type": "stream",
     "text": [
      "100%|██████████| 72985/72985 [01:17<00:00, 943.97it/s]\n"
     ]
    }
   ],
   "source": [
    "words = set()\n",
    "\n",
    "for i in tqdm(range(len(sentences))):\n",
    "    word = sentences[i].split()\n",
    "    words = words.union(set(word))\n",
    "\n",
    "words = list(words)\n",
    "n_vocab = len(words)"
   ]
  },
  {
   "cell_type": "code",
   "execution_count": 8,
   "id": "64cf6821",
   "metadata": {
    "execution": {
     "iopub.execute_input": "2025-03-20T11:33:40.661800Z",
     "iopub.status.busy": "2025-03-20T11:33:40.661477Z",
     "iopub.status.idle": "2025-03-20T11:33:40.698557Z",
     "shell.execute_reply": "2025-03-20T11:33:40.697885Z"
    },
    "papermill": {
     "duration": 0.075219,
     "end_time": "2025-03-20T11:33:40.699933",
     "exception": false,
     "start_time": "2025-03-20T11:33:40.624714",
     "status": "completed"
    },
    "tags": []
   },
   "outputs": [],
   "source": [
    "word_idx = {}\n",
    "\n",
    "for i, word in enumerate(words):\n",
    "    word_idx[word] = i\n",
    "word_idx['bos'] = n_vocab\n",
    "word_idx['eos'] = n_vocab + 1\n",
    "\n",
    "idx_word = {v:k for k,v in word_idx.items()}"
   ]
  },
  {
   "cell_type": "code",
   "execution_count": 9,
   "id": "1f59e613",
   "metadata": {
    "execution": {
     "iopub.execute_input": "2025-03-20T11:33:40.773438Z",
     "iopub.status.busy": "2025-03-20T11:33:40.773138Z",
     "iopub.status.idle": "2025-03-20T11:46:01.449110Z",
     "shell.execute_reply": "2025-03-20T11:46:01.448220Z"
    },
    "papermill": {
     "duration": 740.714237,
     "end_time": "2025-03-20T11:46:01.450548",
     "exception": false,
     "start_time": "2025-03-20T11:33:40.736311",
     "status": "completed"
    },
    "tags": []
   },
   "outputs": [
    {
     "name": "stderr",
     "output_type": "stream",
     "text": [
      "100%|██████████| 72985/72985 [12:20<00:00, 98.54it/s]\n"
     ]
    }
   ],
   "source": [
    "cbow_data = []\n",
    "\n",
    "for sentence in tqdm(sentences):\n",
    "    splits = sentence.split()\n",
    "    for i in range(0, len(splits)):\n",
    "        target = words.index(splits[i])\n",
    "        context = []\n",
    "        j = i - 4\n",
    "        k = i + 1\n",
    "        while j < 0:\n",
    "            context.append(n_vocab)\n",
    "            j += 1\n",
    "        while j < i:\n",
    "            context.append(word_idx[splits[j]])\n",
    "            j += 1\n",
    "        while k <= i + 4:\n",
    "            if k < len(splits) - 1:\n",
    "                context.append(word_idx[splits[k]])\n",
    "            else:\n",
    "                context.append(n_vocab+1)\n",
    "            k += 1\n",
    "        cbow_data.append([context, target])"
   ]
  },
  {
   "cell_type": "code",
   "execution_count": 10,
   "id": "91181d1b",
   "metadata": {
    "execution": {
     "iopub.execute_input": "2025-03-20T11:46:02.179980Z",
     "iopub.status.busy": "2025-03-20T11:46:02.179571Z",
     "iopub.status.idle": "2025-03-20T11:46:02.185029Z",
     "shell.execute_reply": "2025-03-20T11:46:02.183858Z"
    },
    "papermill": {
     "duration": 0.402651,
     "end_time": "2025-03-20T11:46:02.186444",
     "exception": false,
     "start_time": "2025-03-20T11:46:01.783793",
     "status": "completed"
    },
    "tags": []
   },
   "outputs": [],
   "source": [
    "class CBOWDataset(Dataset):\n",
    "    def __init__(self, data):\n",
    "        self.data = data\n",
    "    def __len__(self):\n",
    "        return len(self.data)\n",
    "\n",
    "    def __getitem__(self, idx):\n",
    "        context = torch.tensor(self.data[idx][0])\n",
    "        target = torch.tensor(self.data[idx][1])\n",
    "        return {'context' : context, 'target' : target}\n",
    "        "
   ]
  },
  {
   "cell_type": "code",
   "execution_count": 11,
   "id": "8d6ce357",
   "metadata": {
    "execution": {
     "iopub.execute_input": "2025-03-20T11:46:02.901320Z",
     "iopub.status.busy": "2025-03-20T11:46:02.901040Z",
     "iopub.status.idle": "2025-03-20T11:46:02.906101Z",
     "shell.execute_reply": "2025-03-20T11:46:02.905239Z"
    },
    "papermill": {
     "duration": 0.366331,
     "end_time": "2025-03-20T11:46:02.907384",
     "exception": false,
     "start_time": "2025-03-20T11:46:02.541053",
     "status": "completed"
    },
    "tags": []
   },
   "outputs": [],
   "source": [
    "class  CBOWModel(nn.Module):\n",
    "    def __init__(self, vocab_size, embed_dim):\n",
    "        super(CBOWModel, self).__init__()\n",
    "        self.embedding = nn.Embedding(vocab_size, embed_dim)\n",
    "        self.linear = nn.Linear(embed_dim, vocab_size)\n",
    "        nn.init.xavier_uniform_(self.embedding.weight)\n",
    "        nn.init.xavier_uniform_(self.linear.weight)\n",
    "\n",
    "    def forward(self, x):\n",
    "        vector = self.embedding(x)\n",
    "        vector = torch.mean(vector, dim=1)\n",
    "        return self.linear(vector)\n",
    "\n",
    "    def get_embedding():\n",
    "        return self.embedding"
   ]
  },
  {
   "cell_type": "code",
   "execution_count": 12,
   "id": "9a55826a",
   "metadata": {
    "execution": {
     "iopub.execute_input": "2025-03-20T11:46:03.627924Z",
     "iopub.status.busy": "2025-03-20T11:46:03.627620Z",
     "iopub.status.idle": "2025-03-20T11:46:03.630932Z",
     "shell.execute_reply": "2025-03-20T11:46:03.630155Z"
    },
    "papermill": {
     "duration": 0.338897,
     "end_time": "2025-03-20T11:46:03.632128",
     "exception": false,
     "start_time": "2025-03-20T11:46:03.293231",
     "status": "completed"
    },
    "tags": []
   },
   "outputs": [],
   "source": [
    "dataset = CBOWDataset(cbow_data)"
   ]
  },
  {
   "cell_type": "code",
   "execution_count": 13,
   "id": "cf1a342e",
   "metadata": {
    "execution": {
     "iopub.execute_input": "2025-03-20T11:46:04.361146Z",
     "iopub.status.busy": "2025-03-20T11:46:04.360844Z",
     "iopub.status.idle": "2025-03-20T11:46:04.366133Z",
     "shell.execute_reply": "2025-03-20T11:46:04.365287Z"
    },
    "papermill": {
     "duration": 0.405374,
     "end_time": "2025-03-20T11:46:04.367335",
     "exception": false,
     "start_time": "2025-03-20T11:46:03.961961",
     "status": "completed"
    },
    "tags": []
   },
   "outputs": [
    {
     "name": "stdout",
     "output_type": "stream",
     "text": [
      "bos bos bos bos वह धनकोर बा से \n",
      "फिर\n"
     ]
    }
   ],
   "source": [
    "cbow_data[0]\n",
    "\n",
    "context = \"\"\n",
    "for token in cbow_data[0][0]:\n",
    "    context += idx_word[token] + \" \"\n",
    "print(context)\n",
    "print(idx_word[cbow_data[0][1]])"
   ]
  },
  {
   "cell_type": "code",
   "execution_count": 14,
   "id": "50622376",
   "metadata": {
    "execution": {
     "iopub.execute_input": "2025-03-20T11:46:05.034853Z",
     "iopub.status.busy": "2025-03-20T11:46:05.034525Z",
     "iopub.status.idle": "2025-03-20T11:46:05.039801Z",
     "shell.execute_reply": "2025-03-20T11:46:05.039014Z"
    },
    "papermill": {
     "duration": 0.335218,
     "end_time": "2025-03-20T11:46:05.041388",
     "exception": false,
     "start_time": "2025-03-20T11:46:04.706170",
     "status": "completed"
    },
    "tags": []
   },
   "outputs": [],
   "source": [
    "class EarlyStopping:\n",
    "    def __init__(self, tolerance = 10, min_delta = 0.01):\n",
    "        self.tolerance = tolerance\n",
    "        self.min_delta = min_delta\n",
    "        self.min_loss  = float('inf')\n",
    "        self.counter   = 0\n",
    "        self.early_stop = False\n",
    "        self.model_dict = None\n",
    "        self.optim_dict = None\n",
    "        self.epoch = -1\n",
    "        \n",
    "    def __call__(self, val_loss, model_dict, optim_dict, epoch):\n",
    "        if np.isnan(val_loss):\n",
    "            self.early_stop = True\n",
    "        elif (self.min_loss - val_loss) > self.min_delta:\n",
    "            self.counter = 0\n",
    "            self.min_loss = val_loss\n",
    "            self.model_dict = model_dict\n",
    "            self.optim_dict = optim_dict\n",
    "            self.epoch = epoch\n",
    "        else:\n",
    "            self.counter += 1\n",
    "            if self.counter > self.tolerance:\n",
    "                self.early_stop = True"
   ]
  },
  {
   "cell_type": "code",
   "execution_count": 15,
   "id": "80ba56de",
   "metadata": {
    "execution": {
     "iopub.execute_input": "2025-03-20T11:46:05.851871Z",
     "iopub.status.busy": "2025-03-20T11:46:05.851411Z",
     "iopub.status.idle": "2025-03-20T11:46:07.010957Z",
     "shell.execute_reply": "2025-03-20T11:46:07.010138Z"
    },
    "papermill": {
     "duration": 1.575174,
     "end_time": "2025-03-20T11:46:07.012609",
     "exception": false,
     "start_time": "2025-03-20T11:46:05.437435",
     "status": "completed"
    },
    "tags": []
   },
   "outputs": [],
   "source": [
    "n_epochs = 55\n",
    "lr = 5e-4\n",
    "batch_size = 64\n",
    "\n",
    "models = []\n",
    "for dim in [50, 100, 300]:\n",
    "    models.append(CBOWModel(n_vocab+2, dim).to(device))\n",
    "criterion = nn.CrossEntropyLoss()\n",
    "dataloader = DataLoader(dataset, batch_size=batch_size, shuffle=True)"
   ]
  },
  {
   "cell_type": "code",
   "execution_count": 16,
   "id": "d6a0c824",
   "metadata": {
    "execution": {
     "iopub.execute_input": "2025-03-20T11:46:07.682500Z",
     "iopub.status.busy": "2025-03-20T11:46:07.682164Z",
     "iopub.status.idle": "2025-03-20T18:10:10.825099Z",
     "shell.execute_reply": "2025-03-20T18:10:10.824231Z"
    },
    "papermill": {
     "duration": 23043.481168,
     "end_time": "2025-03-20T18:10:10.826692",
     "exception": false,
     "start_time": "2025-03-20T11:46:07.345524",
     "status": "completed"
    },
    "tags": []
   },
   "outputs": [
    {
     "name": "stderr",
     "output_type": "stream",
     "text": [
      "100%|██████████| 20868/20868 [01:17<00:00, 270.22it/s]\n"
     ]
    },
    {
     "name": "stdout",
     "output_type": "stream",
     "text": [
      "Epoch 1, Loss is : 7.394787540992421\n"
     ]
    },
    {
     "name": "stderr",
     "output_type": "stream",
     "text": [
      "100%|██████████| 20868/20868 [01:16<00:00, 272.39it/s]\n"
     ]
    },
    {
     "name": "stdout",
     "output_type": "stream",
     "text": [
      "Epoch 2, Loss is : 6.893659031274608\n"
     ]
    },
    {
     "name": "stderr",
     "output_type": "stream",
     "text": [
      "100%|██████████| 20868/20868 [01:16<00:00, 273.20it/s]\n"
     ]
    },
    {
     "name": "stdout",
     "output_type": "stream",
     "text": [
      "Epoch 3, Loss is : 6.63686594868017\n"
     ]
    },
    {
     "name": "stderr",
     "output_type": "stream",
     "text": [
      "100%|██████████| 20868/20868 [01:17<00:00, 270.71it/s]\n"
     ]
    },
    {
     "name": "stdout",
     "output_type": "stream",
     "text": [
      "Epoch 4, Loss is : 6.444507363428895\n"
     ]
    },
    {
     "name": "stderr",
     "output_type": "stream",
     "text": [
      "100%|██████████| 20868/20868 [01:16<00:00, 272.35it/s]\n"
     ]
    },
    {
     "name": "stdout",
     "output_type": "stream",
     "text": [
      "Epoch 5, Loss is : 6.292772136452967\n"
     ]
    },
    {
     "name": "stderr",
     "output_type": "stream",
     "text": [
      "100%|██████████| 20868/20868 [01:16<00:00, 272.69it/s]\n"
     ]
    },
    {
     "name": "stdout",
     "output_type": "stream",
     "text": [
      "Epoch 6, Loss is : 6.173503724624307\n"
     ]
    },
    {
     "name": "stderr",
     "output_type": "stream",
     "text": [
      "100%|██████████| 20868/20868 [01:16<00:00, 271.89it/s]\n"
     ]
    },
    {
     "name": "stdout",
     "output_type": "stream",
     "text": [
      "Epoch 7, Loss is : 6.0774503410011045\n"
     ]
    },
    {
     "name": "stderr",
     "output_type": "stream",
     "text": [
      "100%|██████████| 20868/20868 [01:15<00:00, 274.89it/s]\n"
     ]
    },
    {
     "name": "stdout",
     "output_type": "stream",
     "text": [
      "Epoch 8, Loss is : 5.998667340774931\n"
     ]
    },
    {
     "name": "stderr",
     "output_type": "stream",
     "text": [
      "100%|██████████| 20868/20868 [01:16<00:00, 274.39it/s]\n"
     ]
    },
    {
     "name": "stdout",
     "output_type": "stream",
     "text": [
      "Epoch 9, Loss is : 5.933240566510498\n"
     ]
    },
    {
     "name": "stderr",
     "output_type": "stream",
     "text": [
      "100%|██████████| 20868/20868 [01:15<00:00, 274.70it/s]\n"
     ]
    },
    {
     "name": "stdout",
     "output_type": "stream",
     "text": [
      "Epoch 10, Loss is : 5.878146963773478\n"
     ]
    },
    {
     "name": "stderr",
     "output_type": "stream",
     "text": [
      "100%|██████████| 20868/20868 [01:13<00:00, 282.58it/s]\n"
     ]
    },
    {
     "name": "stdout",
     "output_type": "stream",
     "text": [
      "Epoch 11, Loss is : 5.829559559312067\n"
     ]
    },
    {
     "name": "stderr",
     "output_type": "stream",
     "text": [
      "100%|██████████| 20868/20868 [01:14<00:00, 281.91it/s]\n"
     ]
    },
    {
     "name": "stdout",
     "output_type": "stream",
     "text": [
      "Epoch 12, Loss is : 5.786168385367753\n"
     ]
    },
    {
     "name": "stderr",
     "output_type": "stream",
     "text": [
      "100%|██████████| 20868/20868 [01:15<00:00, 274.70it/s]\n"
     ]
    },
    {
     "name": "stdout",
     "output_type": "stream",
     "text": [
      "Epoch 13, Loss is : 5.748530370820773\n"
     ]
    },
    {
     "name": "stderr",
     "output_type": "stream",
     "text": [
      "100%|██████████| 20868/20868 [01:16<00:00, 273.08it/s]\n"
     ]
    },
    {
     "name": "stdout",
     "output_type": "stream",
     "text": [
      "Epoch 14, Loss is : 5.717344447310592\n"
     ]
    },
    {
     "name": "stderr",
     "output_type": "stream",
     "text": [
      "100%|██████████| 20868/20868 [01:16<00:00, 272.61it/s]\n"
     ]
    },
    {
     "name": "stdout",
     "output_type": "stream",
     "text": [
      "Epoch 15, Loss is : 5.691267184891736\n"
     ]
    },
    {
     "name": "stderr",
     "output_type": "stream",
     "text": [
      "100%|██████████| 20868/20868 [01:16<00:00, 272.61it/s]\n"
     ]
    },
    {
     "name": "stdout",
     "output_type": "stream",
     "text": [
      "Epoch 16, Loss is : 5.6694020338275095\n"
     ]
    },
    {
     "name": "stderr",
     "output_type": "stream",
     "text": [
      "100%|██████████| 20868/20868 [01:16<00:00, 272.11it/s]\n"
     ]
    },
    {
     "name": "stdout",
     "output_type": "stream",
     "text": [
      "Epoch 17, Loss is : 5.6507880548327645\n"
     ]
    },
    {
     "name": "stderr",
     "output_type": "stream",
     "text": [
      "100%|██████████| 20868/20868 [01:16<00:00, 273.59it/s]\n"
     ]
    },
    {
     "name": "stdout",
     "output_type": "stream",
     "text": [
      "Epoch 18, Loss is : 5.635297249292125\n"
     ]
    },
    {
     "name": "stderr",
     "output_type": "stream",
     "text": [
      "100%|██████████| 20868/20868 [01:16<00:00, 273.49it/s]\n"
     ]
    },
    {
     "name": "stdout",
     "output_type": "stream",
     "text": [
      "Epoch 19, Loss is : 5.621182553288762\n"
     ]
    },
    {
     "name": "stderr",
     "output_type": "stream",
     "text": [
      "100%|██████████| 20868/20868 [01:16<00:00, 273.96it/s]\n"
     ]
    },
    {
     "name": "stdout",
     "output_type": "stream",
     "text": [
      "Epoch 20, Loss is : 5.608925917184236\n"
     ]
    },
    {
     "name": "stderr",
     "output_type": "stream",
     "text": [
      "100%|██████████| 20868/20868 [01:16<00:00, 274.16it/s]\n"
     ]
    },
    {
     "name": "stdout",
     "output_type": "stream",
     "text": [
      "Epoch 21, Loss is : 5.597098342573046\n"
     ]
    },
    {
     "name": "stderr",
     "output_type": "stream",
     "text": [
      "100%|██████████| 20868/20868 [01:15<00:00, 277.89it/s]\n"
     ]
    },
    {
     "name": "stdout",
     "output_type": "stream",
     "text": [
      "Epoch 22, Loss is : 5.586755473734388\n"
     ]
    },
    {
     "name": "stderr",
     "output_type": "stream",
     "text": [
      "100%|██████████| 20868/20868 [01:15<00:00, 277.28it/s]\n"
     ]
    },
    {
     "name": "stdout",
     "output_type": "stream",
     "text": [
      "Epoch 23, Loss is : 5.577086141997424\n"
     ]
    },
    {
     "name": "stderr",
     "output_type": "stream",
     "text": [
      "100%|██████████| 20868/20868 [01:14<00:00, 278.46it/s]\n"
     ]
    },
    {
     "name": "stdout",
     "output_type": "stream",
     "text": [
      "Epoch 24, Loss is : 5.56866553187576\n"
     ]
    },
    {
     "name": "stderr",
     "output_type": "stream",
     "text": [
      "100%|██████████| 20868/20868 [01:14<00:00, 279.94it/s]\n"
     ]
    },
    {
     "name": "stdout",
     "output_type": "stream",
     "text": [
      "Epoch 25, Loss is : 5.560657020750369\n"
     ]
    },
    {
     "name": "stderr",
     "output_type": "stream",
     "text": [
      "100%|██████████| 20868/20868 [01:14<00:00, 279.82it/s]\n"
     ]
    },
    {
     "name": "stdout",
     "output_type": "stream",
     "text": [
      "Epoch 26, Loss is : 5.553159431854107\n"
     ]
    },
    {
     "name": "stderr",
     "output_type": "stream",
     "text": [
      "100%|██████████| 20868/20868 [01:14<00:00, 279.37it/s]\n"
     ]
    },
    {
     "name": "stdout",
     "output_type": "stream",
     "text": [
      "Epoch 27, Loss is : 5.546591295509565\n"
     ]
    },
    {
     "name": "stderr",
     "output_type": "stream",
     "text": [
      "100%|██████████| 20868/20868 [01:15<00:00, 278.03it/s]\n"
     ]
    },
    {
     "name": "stdout",
     "output_type": "stream",
     "text": [
      "Epoch 28, Loss is : 5.540245611651181\n"
     ]
    },
    {
     "name": "stderr",
     "output_type": "stream",
     "text": [
      "100%|██████████| 20868/20868 [01:15<00:00, 276.82it/s]\n"
     ]
    },
    {
     "name": "stdout",
     "output_type": "stream",
     "text": [
      "Epoch 29, Loss is : 5.534696118777251\n"
     ]
    },
    {
     "name": "stderr",
     "output_type": "stream",
     "text": [
      "100%|██████████| 20868/20868 [01:15<00:00, 275.80it/s]\n"
     ]
    },
    {
     "name": "stdout",
     "output_type": "stream",
     "text": [
      "Epoch 30, Loss is : 5.529266197310798\n"
     ]
    },
    {
     "name": "stderr",
     "output_type": "stream",
     "text": [
      "100%|██████████| 20868/20868 [01:14<00:00, 278.90it/s]\n"
     ]
    },
    {
     "name": "stdout",
     "output_type": "stream",
     "text": [
      "Epoch 31, Loss is : 5.5239509586198405\n"
     ]
    },
    {
     "name": "stderr",
     "output_type": "stream",
     "text": [
      "100%|██████████| 20868/20868 [01:15<00:00, 277.81it/s]\n"
     ]
    },
    {
     "name": "stdout",
     "output_type": "stream",
     "text": [
      "Epoch 32, Loss is : 5.519565635310614\n"
     ]
    },
    {
     "name": "stderr",
     "output_type": "stream",
     "text": [
      "100%|██████████| 20868/20868 [01:15<00:00, 278.12it/s]\n"
     ]
    },
    {
     "name": "stdout",
     "output_type": "stream",
     "text": [
      "Epoch 33, Loss is : 5.515272357270981\n"
     ]
    },
    {
     "name": "stderr",
     "output_type": "stream",
     "text": [
      "100%|██████████| 20868/20868 [01:14<00:00, 278.55it/s]\n"
     ]
    },
    {
     "name": "stdout",
     "output_type": "stream",
     "text": [
      "Epoch 34, Loss is : 5.510959200950928\n"
     ]
    },
    {
     "name": "stderr",
     "output_type": "stream",
     "text": [
      "100%|██████████| 20868/20868 [01:13<00:00, 283.55it/s]\n"
     ]
    },
    {
     "name": "stdout",
     "output_type": "stream",
     "text": [
      "Epoch 35, Loss is : 5.507363614141198\n"
     ]
    },
    {
     "name": "stderr",
     "output_type": "stream",
     "text": [
      "100%|██████████| 20868/20868 [01:13<00:00, 283.12it/s]\n"
     ]
    },
    {
     "name": "stdout",
     "output_type": "stream",
     "text": [
      "Epoch 36, Loss is : 5.50413214389177\n"
     ]
    },
    {
     "name": "stderr",
     "output_type": "stream",
     "text": [
      "100%|██████████| 20868/20868 [01:13<00:00, 283.64it/s]\n"
     ]
    },
    {
     "name": "stdout",
     "output_type": "stream",
     "text": [
      "Epoch 37, Loss is : 5.500958860240404\n"
     ]
    },
    {
     "name": "stderr",
     "output_type": "stream",
     "text": [
      "100%|██████████| 20868/20868 [01:13<00:00, 283.93it/s]\n"
     ]
    },
    {
     "name": "stdout",
     "output_type": "stream",
     "text": [
      "Epoch 38, Loss is : 5.497328441605066\n"
     ]
    },
    {
     "name": "stderr",
     "output_type": "stream",
     "text": [
      "100%|██████████| 20868/20868 [01:14<00:00, 280.95it/s]\n"
     ]
    },
    {
     "name": "stdout",
     "output_type": "stream",
     "text": [
      "Epoch 39, Loss is : 5.493966066416868\n"
     ]
    },
    {
     "name": "stderr",
     "output_type": "stream",
     "text": [
      "100%|██████████| 20868/20868 [01:14<00:00, 279.78it/s]\n"
     ]
    },
    {
     "name": "stdout",
     "output_type": "stream",
     "text": [
      "Epoch 40, Loss is : 5.491174470585426\n"
     ]
    },
    {
     "name": "stderr",
     "output_type": "stream",
     "text": [
      "100%|██████████| 20868/20868 [01:15<00:00, 278.09it/s]\n"
     ]
    },
    {
     "name": "stdout",
     "output_type": "stream",
     "text": [
      "Epoch 41, Loss is : 5.488471948634351\n"
     ]
    },
    {
     "name": "stderr",
     "output_type": "stream",
     "text": [
      "100%|██████████| 20868/20868 [01:14<00:00, 279.29it/s]\n"
     ]
    },
    {
     "name": "stdout",
     "output_type": "stream",
     "text": [
      "Epoch 42, Loss is : 5.4862031979261054\n"
     ]
    },
    {
     "name": "stderr",
     "output_type": "stream",
     "text": [
      "100%|██████████| 20868/20868 [01:14<00:00, 279.42it/s]\n"
     ]
    },
    {
     "name": "stdout",
     "output_type": "stream",
     "text": [
      "Epoch 43, Loss is : 5.484322949995454\n"
     ]
    },
    {
     "name": "stderr",
     "output_type": "stream",
     "text": [
      "100%|██████████| 20868/20868 [01:13<00:00, 283.35it/s]\n"
     ]
    },
    {
     "name": "stdout",
     "output_type": "stream",
     "text": [
      "Epoch 44, Loss is : 5.482073397421165\n"
     ]
    },
    {
     "name": "stderr",
     "output_type": "stream",
     "text": [
      "100%|██████████| 20868/20868 [01:13<00:00, 284.48it/s]\n"
     ]
    },
    {
     "name": "stdout",
     "output_type": "stream",
     "text": [
      "Epoch 45, Loss is : 5.480042724436171\n"
     ]
    },
    {
     "name": "stderr",
     "output_type": "stream",
     "text": [
      "100%|██████████| 20868/20868 [01:14<00:00, 278.41it/s]\n"
     ]
    },
    {
     "name": "stdout",
     "output_type": "stream",
     "text": [
      "Epoch 46, Loss is : 5.478570093328477\n"
     ]
    },
    {
     "name": "stderr",
     "output_type": "stream",
     "text": [
      "100%|██████████| 20868/20868 [01:14<00:00, 278.76it/s]\n"
     ]
    },
    {
     "name": "stdout",
     "output_type": "stream",
     "text": [
      "Epoch 47, Loss is : 5.477024416791449\n"
     ]
    },
    {
     "name": "stderr",
     "output_type": "stream",
     "text": [
      "100%|██████████| 20868/20868 [01:14<00:00, 281.60it/s]\n"
     ]
    },
    {
     "name": "stdout",
     "output_type": "stream",
     "text": [
      "Epoch 48, Loss is : 5.475153148231411\n"
     ]
    },
    {
     "name": "stderr",
     "output_type": "stream",
     "text": [
      "100%|██████████| 20868/20868 [01:14<00:00, 281.40it/s]\n"
     ]
    },
    {
     "name": "stdout",
     "output_type": "stream",
     "text": [
      "Epoch 49, Loss is : 5.473553455513466\n"
     ]
    },
    {
     "name": "stderr",
     "output_type": "stream",
     "text": [
      "100%|██████████| 20868/20868 [01:15<00:00, 276.58it/s]\n"
     ]
    },
    {
     "name": "stdout",
     "output_type": "stream",
     "text": [
      "Epoch 50, Loss is : 5.472181620864272\n"
     ]
    },
    {
     "name": "stderr",
     "output_type": "stream",
     "text": [
      "100%|██████████| 20868/20868 [01:15<00:00, 276.14it/s]\n"
     ]
    },
    {
     "name": "stdout",
     "output_type": "stream",
     "text": [
      "Epoch 51, Loss is : 5.471167468101512\n"
     ]
    },
    {
     "name": "stderr",
     "output_type": "stream",
     "text": [
      "100%|██████████| 20868/20868 [01:14<00:00, 278.52it/s]\n"
     ]
    },
    {
     "name": "stdout",
     "output_type": "stream",
     "text": [
      "Epoch 52, Loss is : 5.4706996817663756\n"
     ]
    },
    {
     "name": "stderr",
     "output_type": "stream",
     "text": [
      "100%|██████████| 20868/20868 [01:14<00:00, 281.92it/s]\n"
     ]
    },
    {
     "name": "stdout",
     "output_type": "stream",
     "text": [
      "Epoch 53, Loss is : 5.470624916736756\n"
     ]
    },
    {
     "name": "stderr",
     "output_type": "stream",
     "text": [
      "100%|██████████| 20868/20868 [01:13<00:00, 282.05it/s]\n"
     ]
    },
    {
     "name": "stdout",
     "output_type": "stream",
     "text": [
      "Epoch 54, Loss is : 5.470399941033003\n"
     ]
    },
    {
     "name": "stderr",
     "output_type": "stream",
     "text": [
      "100%|██████████| 20868/20868 [01:14<00:00, 281.72it/s]\n"
     ]
    },
    {
     "name": "stdout",
     "output_type": "stream",
     "text": [
      "Epoch 55, Loss is : 5.469876173403109\n"
     ]
    },
    {
     "name": "stderr",
     "output_type": "stream",
     "text": [
      "100%|██████████| 20868/20868 [01:40<00:00, 208.52it/s]\n"
     ]
    },
    {
     "name": "stdout",
     "output_type": "stream",
     "text": [
      "Epoch 1, Loss is : 7.295535597943793\n"
     ]
    },
    {
     "name": "stderr",
     "output_type": "stream",
     "text": [
      "100%|██████████| 20868/20868 [01:40<00:00, 208.45it/s]\n"
     ]
    },
    {
     "name": "stdout",
     "output_type": "stream",
     "text": [
      "Epoch 2, Loss is : 6.7100011959189265\n"
     ]
    },
    {
     "name": "stderr",
     "output_type": "stream",
     "text": [
      "100%|██████████| 20868/20868 [01:39<00:00, 208.81it/s]\n"
     ]
    },
    {
     "name": "stdout",
     "output_type": "stream",
     "text": [
      "Epoch 3, Loss is : 6.402193321838035\n"
     ]
    },
    {
     "name": "stderr",
     "output_type": "stream",
     "text": [
      "100%|██████████| 20868/20868 [01:40<00:00, 208.59it/s]\n"
     ]
    },
    {
     "name": "stdout",
     "output_type": "stream",
     "text": [
      "Epoch 4, Loss is : 6.188102136769696\n"
     ]
    },
    {
     "name": "stderr",
     "output_type": "stream",
     "text": [
      "100%|██████████| 20868/20868 [01:40<00:00, 208.51it/s]\n"
     ]
    },
    {
     "name": "stdout",
     "output_type": "stream",
     "text": [
      "Epoch 5, Loss is : 6.02823759372924\n"
     ]
    },
    {
     "name": "stderr",
     "output_type": "stream",
     "text": [
      "100%|██████████| 20868/20868 [01:40<00:00, 207.86it/s]\n"
     ]
    },
    {
     "name": "stdout",
     "output_type": "stream",
     "text": [
      "Epoch 6, Loss is : 5.900785519218957\n"
     ]
    },
    {
     "name": "stderr",
     "output_type": "stream",
     "text": [
      "100%|██████████| 20868/20868 [01:40<00:00, 208.02it/s]\n"
     ]
    },
    {
     "name": "stdout",
     "output_type": "stream",
     "text": [
      "Epoch 7, Loss is : 5.793831676924528\n"
     ]
    },
    {
     "name": "stderr",
     "output_type": "stream",
     "text": [
      "100%|██████████| 20868/20868 [01:39<00:00, 208.90it/s]\n"
     ]
    },
    {
     "name": "stdout",
     "output_type": "stream",
     "text": [
      "Epoch 8, Loss is : 5.7040786480615715\n"
     ]
    },
    {
     "name": "stderr",
     "output_type": "stream",
     "text": [
      "100%|██████████| 20868/20868 [01:40<00:00, 206.77it/s]\n"
     ]
    },
    {
     "name": "stdout",
     "output_type": "stream",
     "text": [
      "Epoch 9, Loss is : 5.6266156554404905\n"
     ]
    },
    {
     "name": "stderr",
     "output_type": "stream",
     "text": [
      "100%|██████████| 20868/20868 [01:40<00:00, 207.15it/s]\n"
     ]
    },
    {
     "name": "stdout",
     "output_type": "stream",
     "text": [
      "Epoch 10, Loss is : 5.558049051062869\n"
     ]
    },
    {
     "name": "stderr",
     "output_type": "stream",
     "text": [
      "100%|██████████| 20868/20868 [01:40<00:00, 207.83it/s]\n"
     ]
    },
    {
     "name": "stdout",
     "output_type": "stream",
     "text": [
      "Epoch 11, Loss is : 5.495059843707272\n"
     ]
    },
    {
     "name": "stderr",
     "output_type": "stream",
     "text": [
      "100%|██████████| 20868/20868 [01:40<00:00, 207.77it/s]\n"
     ]
    },
    {
     "name": "stdout",
     "output_type": "stream",
     "text": [
      "Epoch 12, Loss is : 5.439677975290644\n"
     ]
    },
    {
     "name": "stderr",
     "output_type": "stream",
     "text": [
      "100%|██████████| 20868/20868 [01:40<00:00, 208.15it/s]\n"
     ]
    },
    {
     "name": "stdout",
     "output_type": "stream",
     "text": [
      "Epoch 13, Loss is : 5.3913163747142185\n"
     ]
    },
    {
     "name": "stderr",
     "output_type": "stream",
     "text": [
      "100%|██████████| 20868/20868 [01:40<00:00, 208.28it/s]\n"
     ]
    },
    {
     "name": "stdout",
     "output_type": "stream",
     "text": [
      "Epoch 14, Loss is : 5.3508350443675505\n"
     ]
    },
    {
     "name": "stderr",
     "output_type": "stream",
     "text": [
      "100%|██████████| 20868/20868 [01:40<00:00, 207.74it/s]\n"
     ]
    },
    {
     "name": "stdout",
     "output_type": "stream",
     "text": [
      "Epoch 15, Loss is : 5.315473779821752\n"
     ]
    },
    {
     "name": "stderr",
     "output_type": "stream",
     "text": [
      "100%|██████████| 20868/20868 [01:39<00:00, 208.79it/s]\n"
     ]
    },
    {
     "name": "stdout",
     "output_type": "stream",
     "text": [
      "Epoch 16, Loss is : 5.28536252283561\n"
     ]
    },
    {
     "name": "stderr",
     "output_type": "stream",
     "text": [
      "100%|██████████| 20868/20868 [01:40<00:00, 208.43it/s]\n"
     ]
    },
    {
     "name": "stdout",
     "output_type": "stream",
     "text": [
      "Epoch 17, Loss is : 5.258620512400959\n"
     ]
    },
    {
     "name": "stderr",
     "output_type": "stream",
     "text": [
      "100%|██████████| 20868/20868 [01:40<00:00, 208.12it/s]\n"
     ]
    },
    {
     "name": "stdout",
     "output_type": "stream",
     "text": [
      "Epoch 18, Loss is : 5.2350481809933616\n"
     ]
    },
    {
     "name": "stderr",
     "output_type": "stream",
     "text": [
      "100%|██████████| 20868/20868 [01:40<00:00, 208.48it/s]\n"
     ]
    },
    {
     "name": "stdout",
     "output_type": "stream",
     "text": [
      "Epoch 19, Loss is : 5.213293160209944\n"
     ]
    },
    {
     "name": "stderr",
     "output_type": "stream",
     "text": [
      "100%|██████████| 20868/20868 [01:40<00:00, 208.04it/s]\n"
     ]
    },
    {
     "name": "stdout",
     "output_type": "stream",
     "text": [
      "Epoch 20, Loss is : 5.193439002955168\n"
     ]
    },
    {
     "name": "stderr",
     "output_type": "stream",
     "text": [
      "100%|██████████| 20868/20868 [01:40<00:00, 207.32it/s]\n"
     ]
    },
    {
     "name": "stdout",
     "output_type": "stream",
     "text": [
      "Epoch 21, Loss is : 5.174428317723705\n"
     ]
    },
    {
     "name": "stderr",
     "output_type": "stream",
     "text": [
      "100%|██████████| 20868/20868 [01:40<00:00, 208.29it/s]\n"
     ]
    },
    {
     "name": "stdout",
     "output_type": "stream",
     "text": [
      "Epoch 22, Loss is : 5.157450903860435\n"
     ]
    },
    {
     "name": "stderr",
     "output_type": "stream",
     "text": [
      "100%|██████████| 20868/20868 [01:40<00:00, 208.17it/s]\n"
     ]
    },
    {
     "name": "stdout",
     "output_type": "stream",
     "text": [
      "Epoch 23, Loss is : 5.142114798856325\n"
     ]
    },
    {
     "name": "stderr",
     "output_type": "stream",
     "text": [
      "100%|██████████| 20868/20868 [01:40<00:00, 207.68it/s]\n"
     ]
    },
    {
     "name": "stdout",
     "output_type": "stream",
     "text": [
      "Epoch 24, Loss is : 5.1276343114444165\n"
     ]
    },
    {
     "name": "stderr",
     "output_type": "stream",
     "text": [
      "100%|██████████| 20868/20868 [01:40<00:00, 206.70it/s]\n"
     ]
    },
    {
     "name": "stdout",
     "output_type": "stream",
     "text": [
      "Epoch 25, Loss is : 5.114093705626176\n"
     ]
    },
    {
     "name": "stderr",
     "output_type": "stream",
     "text": [
      "100%|██████████| 20868/20868 [01:40<00:00, 206.90it/s]\n"
     ]
    },
    {
     "name": "stdout",
     "output_type": "stream",
     "text": [
      "Epoch 26, Loss is : 5.102385308165785\n"
     ]
    },
    {
     "name": "stderr",
     "output_type": "stream",
     "text": [
      "100%|██████████| 20868/20868 [01:40<00:00, 206.71it/s]\n"
     ]
    },
    {
     "name": "stdout",
     "output_type": "stream",
     "text": [
      "Epoch 27, Loss is : 5.091220744661109\n"
     ]
    },
    {
     "name": "stderr",
     "output_type": "stream",
     "text": [
      "100%|██████████| 20868/20868 [01:41<00:00, 205.19it/s]\n"
     ]
    },
    {
     "name": "stdout",
     "output_type": "stream",
     "text": [
      "Epoch 28, Loss is : 5.080986481346297\n"
     ]
    },
    {
     "name": "stderr",
     "output_type": "stream",
     "text": [
      "100%|██████████| 20868/20868 [01:40<00:00, 207.40it/s]\n"
     ]
    },
    {
     "name": "stdout",
     "output_type": "stream",
     "text": [
      "Epoch 29, Loss is : 5.0709824026122226\n"
     ]
    },
    {
     "name": "stderr",
     "output_type": "stream",
     "text": [
      "100%|██████████| 20868/20868 [01:39<00:00, 208.90it/s]\n"
     ]
    },
    {
     "name": "stdout",
     "output_type": "stream",
     "text": [
      "Epoch 30, Loss is : 5.06204522952783\n"
     ]
    },
    {
     "name": "stderr",
     "output_type": "stream",
     "text": [
      "100%|██████████| 20868/20868 [01:41<00:00, 205.40it/s]\n"
     ]
    },
    {
     "name": "stdout",
     "output_type": "stream",
     "text": [
      "Epoch 31, Loss is : 5.053598397304118\n"
     ]
    },
    {
     "name": "stderr",
     "output_type": "stream",
     "text": [
      "100%|██████████| 20868/20868 [01:40<00:00, 207.26it/s]\n"
     ]
    },
    {
     "name": "stdout",
     "output_type": "stream",
     "text": [
      "Epoch 32, Loss is : 5.046461218089374\n"
     ]
    },
    {
     "name": "stderr",
     "output_type": "stream",
     "text": [
      "100%|██████████| 20868/20868 [01:40<00:00, 208.39it/s]\n"
     ]
    },
    {
     "name": "stdout",
     "output_type": "stream",
     "text": [
      "Epoch 33, Loss is : 5.039512478073644\n"
     ]
    },
    {
     "name": "stderr",
     "output_type": "stream",
     "text": [
      "100%|██████████| 20868/20868 [01:40<00:00, 208.51it/s]\n"
     ]
    },
    {
     "name": "stdout",
     "output_type": "stream",
     "text": [
      "Epoch 34, Loss is : 5.032500852164304\n"
     ]
    },
    {
     "name": "stderr",
     "output_type": "stream",
     "text": [
      "100%|██████████| 20868/20868 [01:40<00:00, 208.05it/s]\n"
     ]
    },
    {
     "name": "stdout",
     "output_type": "stream",
     "text": [
      "Epoch 35, Loss is : 5.026444151583407\n"
     ]
    },
    {
     "name": "stderr",
     "output_type": "stream",
     "text": [
      "100%|██████████| 20868/20868 [01:40<00:00, 207.50it/s]\n"
     ]
    },
    {
     "name": "stdout",
     "output_type": "stream",
     "text": [
      "Epoch 36, Loss is : 5.021124814544712\n"
     ]
    },
    {
     "name": "stderr",
     "output_type": "stream",
     "text": [
      "100%|██████████| 20868/20868 [01:41<00:00, 206.01it/s]\n"
     ]
    },
    {
     "name": "stdout",
     "output_type": "stream",
     "text": [
      "Epoch 37, Loss is : 5.015917250393496\n"
     ]
    },
    {
     "name": "stderr",
     "output_type": "stream",
     "text": [
      "100%|██████████| 20868/20868 [01:40<00:00, 208.17it/s]\n"
     ]
    },
    {
     "name": "stdout",
     "output_type": "stream",
     "text": [
      "Epoch 38, Loss is : 5.010335603732818\n"
     ]
    },
    {
     "name": "stderr",
     "output_type": "stream",
     "text": [
      "100%|██████████| 20868/20868 [01:40<00:00, 208.33it/s]\n"
     ]
    },
    {
     "name": "stdout",
     "output_type": "stream",
     "text": [
      "Epoch 39, Loss is : 5.00506647963713\n"
     ]
    },
    {
     "name": "stderr",
     "output_type": "stream",
     "text": [
      "100%|██████████| 20868/20868 [01:40<00:00, 208.22it/s]\n"
     ]
    },
    {
     "name": "stdout",
     "output_type": "stream",
     "text": [
      "Epoch 40, Loss is : 5.000271094789079\n"
     ]
    },
    {
     "name": "stderr",
     "output_type": "stream",
     "text": [
      "100%|██████████| 20868/20868 [01:40<00:00, 207.88it/s]\n"
     ]
    },
    {
     "name": "stdout",
     "output_type": "stream",
     "text": [
      "Epoch 41, Loss is : 4.995605546234896\n"
     ]
    },
    {
     "name": "stderr",
     "output_type": "stream",
     "text": [
      "100%|██████████| 20868/20868 [01:40<00:00, 206.75it/s]\n"
     ]
    },
    {
     "name": "stdout",
     "output_type": "stream",
     "text": [
      "Epoch 42, Loss is : 4.991762801527817\n"
     ]
    },
    {
     "name": "stderr",
     "output_type": "stream",
     "text": [
      "100%|██████████| 20868/20868 [01:41<00:00, 206.29it/s]\n"
     ]
    },
    {
     "name": "stdout",
     "output_type": "stream",
     "text": [
      "Epoch 43, Loss is : 4.988701121592764\n"
     ]
    },
    {
     "name": "stderr",
     "output_type": "stream",
     "text": [
      "100%|██████████| 20868/20868 [01:40<00:00, 207.61it/s]\n"
     ]
    },
    {
     "name": "stdout",
     "output_type": "stream",
     "text": [
      "Epoch 44, Loss is : 4.985121577881021\n"
     ]
    },
    {
     "name": "stderr",
     "output_type": "stream",
     "text": [
      "100%|██████████| 20868/20868 [01:41<00:00, 206.55it/s]\n"
     ]
    },
    {
     "name": "stdout",
     "output_type": "stream",
     "text": [
      "Epoch 45, Loss is : 4.981816412515057\n"
     ]
    },
    {
     "name": "stderr",
     "output_type": "stream",
     "text": [
      "100%|██████████| 20868/20868 [01:41<00:00, 206.09it/s]\n"
     ]
    },
    {
     "name": "stdout",
     "output_type": "stream",
     "text": [
      "Epoch 46, Loss is : 4.979492484449266\n"
     ]
    },
    {
     "name": "stderr",
     "output_type": "stream",
     "text": [
      "100%|██████████| 20868/20868 [01:40<00:00, 206.99it/s]\n"
     ]
    },
    {
     "name": "stdout",
     "output_type": "stream",
     "text": [
      "Epoch 47, Loss is : 4.977213517788249\n"
     ]
    },
    {
     "name": "stderr",
     "output_type": "stream",
     "text": [
      "100%|██████████| 20868/20868 [01:40<00:00, 206.92it/s]\n"
     ]
    },
    {
     "name": "stdout",
     "output_type": "stream",
     "text": [
      "Epoch 48, Loss is : 4.974513546669188\n"
     ]
    },
    {
     "name": "stderr",
     "output_type": "stream",
     "text": [
      "100%|██████████| 20868/20868 [01:40<00:00, 207.19it/s]\n"
     ]
    },
    {
     "name": "stdout",
     "output_type": "stream",
     "text": [
      "Epoch 49, Loss is : 4.9720782704661355\n"
     ]
    },
    {
     "name": "stderr",
     "output_type": "stream",
     "text": [
      "100%|██████████| 20868/20868 [01:40<00:00, 207.35it/s]\n"
     ]
    },
    {
     "name": "stdout",
     "output_type": "stream",
     "text": [
      "Epoch 50, Loss is : 4.9698874627079155\n"
     ]
    },
    {
     "name": "stderr",
     "output_type": "stream",
     "text": [
      "100%|██████████| 20868/20868 [01:40<00:00, 208.01it/s]\n"
     ]
    },
    {
     "name": "stdout",
     "output_type": "stream",
     "text": [
      "Epoch 51, Loss is : 4.968347487925843\n"
     ]
    },
    {
     "name": "stderr",
     "output_type": "stream",
     "text": [
      "100%|██████████| 20868/20868 [01:40<00:00, 207.11it/s]\n"
     ]
    },
    {
     "name": "stdout",
     "output_type": "stream",
     "text": [
      "Epoch 52, Loss is : 4.967681910403505\n"
     ]
    },
    {
     "name": "stderr",
     "output_type": "stream",
     "text": [
      "100%|██████████| 20868/20868 [01:40<00:00, 207.06it/s]\n"
     ]
    },
    {
     "name": "stdout",
     "output_type": "stream",
     "text": [
      "Epoch 53, Loss is : 4.967593320455271\n"
     ]
    },
    {
     "name": "stderr",
     "output_type": "stream",
     "text": [
      "100%|██████████| 20868/20868 [01:40<00:00, 207.96it/s]\n"
     ]
    },
    {
     "name": "stdout",
     "output_type": "stream",
     "text": [
      "Epoch 54, Loss is : 4.96727803612843\n"
     ]
    },
    {
     "name": "stderr",
     "output_type": "stream",
     "text": [
      "100%|██████████| 20868/20868 [01:40<00:00, 208.37it/s]\n"
     ]
    },
    {
     "name": "stdout",
     "output_type": "stream",
     "text": [
      "Epoch 55, Loss is : 4.966501505273911\n"
     ]
    },
    {
     "name": "stderr",
     "output_type": "stream",
     "text": [
      "100%|██████████| 20868/20868 [04:03<00:00, 85.88it/s]\n"
     ]
    },
    {
     "name": "stdout",
     "output_type": "stream",
     "text": [
      "Epoch 1, Loss is : 7.105279811867723\n"
     ]
    },
    {
     "name": "stderr",
     "output_type": "stream",
     "text": [
      "100%|██████████| 20868/20868 [04:03<00:00, 85.80it/s]\n"
     ]
    },
    {
     "name": "stdout",
     "output_type": "stream",
     "text": [
      "Epoch 2, Loss is : 6.373781559520785\n"
     ]
    },
    {
     "name": "stderr",
     "output_type": "stream",
     "text": [
      "100%|██████████| 20868/20868 [04:03<00:00, 85.87it/s]\n"
     ]
    },
    {
     "name": "stdout",
     "output_type": "stream",
     "text": [
      "Epoch 3, Loss is : 6.0278297664105995\n"
     ]
    },
    {
     "name": "stderr",
     "output_type": "stream",
     "text": [
      "100%|██████████| 20868/20868 [04:03<00:00, 85.73it/s]\n"
     ]
    },
    {
     "name": "stdout",
     "output_type": "stream",
     "text": [
      "Epoch 4, Loss is : 5.785198427466842\n"
     ]
    },
    {
     "name": "stderr",
     "output_type": "stream",
     "text": [
      "100%|██████████| 20868/20868 [04:03<00:00, 85.87it/s]\n"
     ]
    },
    {
     "name": "stdout",
     "output_type": "stream",
     "text": [
      "Epoch 5, Loss is : 5.587805230246894\n"
     ]
    },
    {
     "name": "stderr",
     "output_type": "stream",
     "text": [
      "100%|██████████| 20868/20868 [04:03<00:00, 85.84it/s]\n"
     ]
    },
    {
     "name": "stdout",
     "output_type": "stream",
     "text": [
      "Epoch 6, Loss is : 5.417926069007012\n"
     ]
    },
    {
     "name": "stderr",
     "output_type": "stream",
     "text": [
      "100%|██████████| 20868/20868 [04:02<00:00, 85.95it/s]\n"
     ]
    },
    {
     "name": "stdout",
     "output_type": "stream",
     "text": [
      "Epoch 7, Loss is : 5.270042920537623\n"
     ]
    },
    {
     "name": "stderr",
     "output_type": "stream",
     "text": [
      "100%|██████████| 20868/20868 [04:03<00:00, 85.67it/s]\n"
     ]
    },
    {
     "name": "stdout",
     "output_type": "stream",
     "text": [
      "Epoch 8, Loss is : 5.139643477609794\n"
     ]
    },
    {
     "name": "stderr",
     "output_type": "stream",
     "text": [
      "100%|██████████| 20868/20868 [04:02<00:00, 85.94it/s]\n"
     ]
    },
    {
     "name": "stdout",
     "output_type": "stream",
     "text": [
      "Epoch 9, Loss is : 5.022933627068368\n"
     ]
    },
    {
     "name": "stderr",
     "output_type": "stream",
     "text": [
      "100%|██████████| 20868/20868 [04:02<00:00, 85.95it/s]\n"
     ]
    },
    {
     "name": "stdout",
     "output_type": "stream",
     "text": [
      "Epoch 10, Loss is : 4.917361922892021\n"
     ]
    },
    {
     "name": "stderr",
     "output_type": "stream",
     "text": [
      "100%|██████████| 20868/20868 [04:02<00:00, 85.90it/s]\n"
     ]
    },
    {
     "name": "stdout",
     "output_type": "stream",
     "text": [
      "Epoch 11, Loss is : 4.824276696899876\n"
     ]
    },
    {
     "name": "stderr",
     "output_type": "stream",
     "text": [
      "100%|██████████| 20868/20868 [04:03<00:00, 85.88it/s]\n"
     ]
    },
    {
     "name": "stdout",
     "output_type": "stream",
     "text": [
      "Epoch 12, Loss is : 4.741621929223176\n"
     ]
    },
    {
     "name": "stderr",
     "output_type": "stream",
     "text": [
      "100%|██████████| 20868/20868 [04:02<00:00, 85.90it/s]\n"
     ]
    },
    {
     "name": "stdout",
     "output_type": "stream",
     "text": [
      "Epoch 13, Loss is : 4.669153508496554\n"
     ]
    },
    {
     "name": "stderr",
     "output_type": "stream",
     "text": [
      "100%|██████████| 20868/20868 [04:03<00:00, 85.82it/s]\n"
     ]
    },
    {
     "name": "stdout",
     "output_type": "stream",
     "text": [
      "Epoch 14, Loss is : 4.604029854275793\n"
     ]
    },
    {
     "name": "stderr",
     "output_type": "stream",
     "text": [
      "100%|██████████| 20868/20868 [04:03<00:00, 85.83it/s]\n"
     ]
    },
    {
     "name": "stdout",
     "output_type": "stream",
     "text": [
      "Epoch 15, Loss is : 4.546187123748245\n"
     ]
    },
    {
     "name": "stderr",
     "output_type": "stream",
     "text": [
      "100%|██████████| 20868/20868 [04:03<00:00, 85.71it/s]\n"
     ]
    },
    {
     "name": "stdout",
     "output_type": "stream",
     "text": [
      "Epoch 16, Loss is : 4.492410694979287\n"
     ]
    },
    {
     "name": "stderr",
     "output_type": "stream",
     "text": [
      "100%|██████████| 20868/20868 [04:03<00:00, 85.83it/s]\n"
     ]
    },
    {
     "name": "stdout",
     "output_type": "stream",
     "text": [
      "Epoch 17, Loss is : 4.444030669484075\n"
     ]
    },
    {
     "name": "stderr",
     "output_type": "stream",
     "text": [
      "100%|██████████| 20868/20868 [04:02<00:00, 85.91it/s]\n"
     ]
    },
    {
     "name": "stdout",
     "output_type": "stream",
     "text": [
      "Epoch 18, Loss is : 4.399788337556343\n"
     ]
    },
    {
     "name": "stderr",
     "output_type": "stream",
     "text": [
      "100%|██████████| 20868/20868 [04:02<00:00, 85.92it/s]\n"
     ]
    },
    {
     "name": "stdout",
     "output_type": "stream",
     "text": [
      "Epoch 19, Loss is : 4.358625393707176\n"
     ]
    },
    {
     "name": "stderr",
     "output_type": "stream",
     "text": [
      "100%|██████████| 20868/20868 [04:02<00:00, 85.91it/s]\n"
     ]
    },
    {
     "name": "stdout",
     "output_type": "stream",
     "text": [
      "Epoch 20, Loss is : 4.320809468549856\n"
     ]
    },
    {
     "name": "stderr",
     "output_type": "stream",
     "text": [
      "100%|██████████| 20868/20868 [04:03<00:00, 85.87it/s]\n"
     ]
    },
    {
     "name": "stdout",
     "output_type": "stream",
     "text": [
      "Epoch 21, Loss is : 4.28549702594352\n"
     ]
    },
    {
     "name": "stderr",
     "output_type": "stream",
     "text": [
      "100%|██████████| 20868/20868 [04:02<00:00, 86.01it/s]\n"
     ]
    },
    {
     "name": "stdout",
     "output_type": "stream",
     "text": [
      "Epoch 22, Loss is : 4.251930499513281\n"
     ]
    },
    {
     "name": "stderr",
     "output_type": "stream",
     "text": [
      "100%|██████████| 20868/20868 [04:03<00:00, 85.82it/s]\n"
     ]
    },
    {
     "name": "stdout",
     "output_type": "stream",
     "text": [
      "Epoch 23, Loss is : 4.222030468317931\n"
     ]
    },
    {
     "name": "stderr",
     "output_type": "stream",
     "text": [
      "100%|██████████| 20868/20868 [04:03<00:00, 85.83it/s]\n"
     ]
    },
    {
     "name": "stdout",
     "output_type": "stream",
     "text": [
      "Epoch 24, Loss is : 4.195560107702767\n"
     ]
    },
    {
     "name": "stderr",
     "output_type": "stream",
     "text": [
      "100%|██████████| 20868/20868 [04:03<00:00, 85.79it/s]\n"
     ]
    },
    {
     "name": "stdout",
     "output_type": "stream",
     "text": [
      "Epoch 25, Loss is : 4.1696733381982645\n"
     ]
    },
    {
     "name": "stderr",
     "output_type": "stream",
     "text": [
      "100%|██████████| 20868/20868 [04:02<00:00, 85.89it/s]\n"
     ]
    },
    {
     "name": "stdout",
     "output_type": "stream",
     "text": [
      "Epoch 26, Loss is : 4.145269307752941\n"
     ]
    },
    {
     "name": "stderr",
     "output_type": "stream",
     "text": [
      "100%|██████████| 20868/20868 [04:02<00:00, 85.92it/s]\n"
     ]
    },
    {
     "name": "stdout",
     "output_type": "stream",
     "text": [
      "Epoch 27, Loss is : 4.12334023209534\n"
     ]
    },
    {
     "name": "stderr",
     "output_type": "stream",
     "text": [
      "100%|██████████| 20868/20868 [04:03<00:00, 85.83it/s]\n"
     ]
    },
    {
     "name": "stdout",
     "output_type": "stream",
     "text": [
      "Epoch 28, Loss is : 4.102765459483763\n"
     ]
    },
    {
     "name": "stderr",
     "output_type": "stream",
     "text": [
      "100%|██████████| 20868/20868 [04:02<00:00, 86.00it/s]\n"
     ]
    },
    {
     "name": "stdout",
     "output_type": "stream",
     "text": [
      "Epoch 29, Loss is : 4.083786263636344\n"
     ]
    },
    {
     "name": "stderr",
     "output_type": "stream",
     "text": [
      "100%|██████████| 20868/20868 [04:02<00:00, 85.94it/s]\n"
     ]
    },
    {
     "name": "stdout",
     "output_type": "stream",
     "text": [
      "Epoch 30, Loss is : 4.065359943804669\n"
     ]
    },
    {
     "name": "stderr",
     "output_type": "stream",
     "text": [
      "100%|██████████| 20868/20868 [04:03<00:00, 85.63it/s]\n"
     ]
    },
    {
     "name": "stdout",
     "output_type": "stream",
     "text": [
      "Epoch 31, Loss is : 4.047812980997258\n"
     ]
    },
    {
     "name": "stderr",
     "output_type": "stream",
     "text": [
      "100%|██████████| 20868/20868 [04:02<00:00, 85.94it/s]\n"
     ]
    },
    {
     "name": "stdout",
     "output_type": "stream",
     "text": [
      "Epoch 32, Loss is : 4.033267084496996\n"
     ]
    },
    {
     "name": "stderr",
     "output_type": "stream",
     "text": [
      "100%|██████████| 20868/20868 [04:03<00:00, 85.72it/s]\n"
     ]
    },
    {
     "name": "stdout",
     "output_type": "stream",
     "text": [
      "Epoch 33, Loss is : 4.018293175542859\n"
     ]
    },
    {
     "name": "stderr",
     "output_type": "stream",
     "text": [
      "100%|██████████| 20868/20868 [04:04<00:00, 85.40it/s]\n"
     ]
    },
    {
     "name": "stdout",
     "output_type": "stream",
     "text": [
      "Epoch 34, Loss is : 4.003911915000471\n"
     ]
    },
    {
     "name": "stderr",
     "output_type": "stream",
     "text": [
      "100%|██████████| 20868/20868 [04:04<00:00, 85.28it/s]\n"
     ]
    },
    {
     "name": "stdout",
     "output_type": "stream",
     "text": [
      "Epoch 35, Loss is : 3.991704981354934\n"
     ]
    },
    {
     "name": "stderr",
     "output_type": "stream",
     "text": [
      "100%|██████████| 20868/20868 [04:03<00:00, 85.67it/s]\n"
     ]
    },
    {
     "name": "stdout",
     "output_type": "stream",
     "text": [
      "Epoch 36, Loss is : 3.9808242926086668\n"
     ]
    },
    {
     "name": "stderr",
     "output_type": "stream",
     "text": [
      "100%|██████████| 20868/20868 [04:03<00:00, 85.81it/s]\n"
     ]
    },
    {
     "name": "stdout",
     "output_type": "stream",
     "text": [
      "Epoch 37, Loss is : 3.9696553239814163\n"
     ]
    },
    {
     "name": "stderr",
     "output_type": "stream",
     "text": [
      "100%|██████████| 20868/20868 [04:02<00:00, 85.89it/s]\n"
     ]
    },
    {
     "name": "stdout",
     "output_type": "stream",
     "text": [
      "Epoch 38, Loss is : 3.957753768101126\n"
     ]
    },
    {
     "name": "stderr",
     "output_type": "stream",
     "text": [
      "100%|██████████| 20868/20868 [04:03<00:00, 85.70it/s]\n"
     ]
    },
    {
     "name": "stdout",
     "output_type": "stream",
     "text": [
      "Epoch 39, Loss is : 3.9475464418927486\n"
     ]
    },
    {
     "name": "stderr",
     "output_type": "stream",
     "text": [
      "100%|██████████| 20868/20868 [04:03<00:00, 85.69it/s]\n"
     ]
    },
    {
     "name": "stdout",
     "output_type": "stream",
     "text": [
      "Epoch 40, Loss is : 3.937912644406765\n"
     ]
    },
    {
     "name": "stderr",
     "output_type": "stream",
     "text": [
      "100%|██████████| 20868/20868 [04:03<00:00, 85.79it/s]\n"
     ]
    },
    {
     "name": "stdout",
     "output_type": "stream",
     "text": [
      "Epoch 41, Loss is : 3.928510938838727\n"
     ]
    },
    {
     "name": "stderr",
     "output_type": "stream",
     "text": [
      "100%|██████████| 20868/20868 [04:02<00:00, 85.92it/s]\n"
     ]
    },
    {
     "name": "stdout",
     "output_type": "stream",
     "text": [
      "Epoch 42, Loss is : 3.9208990388819602\n"
     ]
    },
    {
     "name": "stderr",
     "output_type": "stream",
     "text": [
      "100%|██████████| 20868/20868 [04:02<00:00, 85.89it/s]\n"
     ]
    },
    {
     "name": "stdout",
     "output_type": "stream",
     "text": [
      "Epoch 43, Loss is : 3.9145113620146588\n"
     ]
    },
    {
     "name": "stderr",
     "output_type": "stream",
     "text": [
      "100%|██████████| 20868/20868 [04:03<00:00, 85.86it/s]\n"
     ]
    },
    {
     "name": "stdout",
     "output_type": "stream",
     "text": [
      "Epoch 44, Loss is : 3.907527947953681\n"
     ]
    },
    {
     "name": "stderr",
     "output_type": "stream",
     "text": [
      "100%|██████████| 20868/20868 [04:02<00:00, 85.93it/s]\n"
     ]
    },
    {
     "name": "stdout",
     "output_type": "stream",
     "text": [
      "Epoch 45, Loss is : 3.9011477625459143\n"
     ]
    },
    {
     "name": "stderr",
     "output_type": "stream",
     "text": [
      "100%|██████████| 20868/20868 [04:03<00:00, 85.81it/s]\n"
     ]
    },
    {
     "name": "stdout",
     "output_type": "stream",
     "text": [
      "Epoch 46, Loss is : 3.8966107998676676\n"
     ]
    },
    {
     "name": "stderr",
     "output_type": "stream",
     "text": [
      "100%|██████████| 20868/20868 [04:02<00:00, 85.89it/s]\n"
     ]
    },
    {
     "name": "stdout",
     "output_type": "stream",
     "text": [
      "Epoch 47, Loss is : 3.892086068434987\n"
     ]
    },
    {
     "name": "stderr",
     "output_type": "stream",
     "text": [
      "100%|██████████| 20868/20868 [04:02<00:00, 85.88it/s]\n"
     ]
    },
    {
     "name": "stdout",
     "output_type": "stream",
     "text": [
      "Epoch 48, Loss is : 3.886927615757621\n"
     ]
    },
    {
     "name": "stderr",
     "output_type": "stream",
     "text": [
      "100%|██████████| 20868/20868 [04:03<00:00, 85.76it/s]\n"
     ]
    },
    {
     "name": "stdout",
     "output_type": "stream",
     "text": [
      "Epoch 49, Loss is : 3.882435552388835\n"
     ]
    },
    {
     "name": "stderr",
     "output_type": "stream",
     "text": [
      "100%|██████████| 20868/20868 [04:02<00:00, 85.93it/s]\n"
     ]
    },
    {
     "name": "stdout",
     "output_type": "stream",
     "text": [
      "Epoch 50, Loss is : 3.8782842129908786\n"
     ]
    },
    {
     "name": "stderr",
     "output_type": "stream",
     "text": [
      "100%|██████████| 20868/20868 [04:02<00:00, 85.91it/s]\n"
     ]
    },
    {
     "name": "stdout",
     "output_type": "stream",
     "text": [
      "Epoch 51, Loss is : 3.875224302400911\n"
     ]
    },
    {
     "name": "stderr",
     "output_type": "stream",
     "text": [
      "100%|██████████| 20868/20868 [04:03<00:00, 85.69it/s]\n"
     ]
    },
    {
     "name": "stdout",
     "output_type": "stream",
     "text": [
      "Epoch 52, Loss is : 3.873810409117138\n"
     ]
    },
    {
     "name": "stderr",
     "output_type": "stream",
     "text": [
      "100%|██████████| 20868/20868 [04:03<00:00, 85.77it/s]\n"
     ]
    },
    {
     "name": "stdout",
     "output_type": "stream",
     "text": [
      "Epoch 53, Loss is : 3.8736687557482963\n"
     ]
    },
    {
     "name": "stderr",
     "output_type": "stream",
     "text": [
      "100%|██████████| 20868/20868 [04:04<00:00, 85.49it/s]\n"
     ]
    },
    {
     "name": "stdout",
     "output_type": "stream",
     "text": [
      "Epoch 54, Loss is : 3.873138574398133\n"
     ]
    },
    {
     "name": "stderr",
     "output_type": "stream",
     "text": [
      "100%|██████████| 20868/20868 [04:04<00:00, 85.45it/s]\n"
     ]
    },
    {
     "name": "stdout",
     "output_type": "stream",
     "text": [
      "Epoch 55, Loss is : 3.871746539943904\n"
     ]
    }
   ],
   "source": [
    "embed_dims = [50, 100, 300]\n",
    "for j in range(len(embed_dims)):\n",
    "    model = models[j].to(device)\n",
    "    optimizer = AdamW(model.parameters(), lr = lr)\n",
    "    scheduler = optim.lr_scheduler.CosineAnnealingLR(optimizer, T_max=n_epochs, eta_min=0)\n",
    "    es = EarlyStopping()\n",
    "    for i in range(n_epochs):\n",
    "        train_loss = 0\n",
    "        model.train()\n",
    "        for batch in tqdm(dataloader):\n",
    "            context = batch['context'].to(device)\n",
    "            target = batch['target'].to(device)\n",
    "            outputs = model(context)\n",
    "            loss = criterion(outputs, target)\n",
    "            optimizer.zero_grad()\n",
    "            loss.backward()\n",
    "            optimizer.step()\n",
    "            train_loss += loss.item()\n",
    "        scheduler.step()\n",
    "        print(f\"Epoch {i+1}, Loss is : {train_loss/len(dataloader)}\")\n",
    "        es(train_loss, model.state_dict(), optimizer.state_dict(), i)\n",
    "        if es.early_stop:\n",
    "            break\n",
    "    model.load_state_dict(es.model_dict)\n",
    "    torch.save(model.state_dict(), f'CBOW_{embed_dims[j]}.pth')"
   ]
  },
  {
   "cell_type": "code",
   "execution_count": null,
   "id": "55bed035",
   "metadata": {
    "papermill": {
     "duration": 11.01526,
     "end_time": "2025-03-20T18:10:32.858148",
     "exception": false,
     "start_time": "2025-03-20T18:10:21.842888",
     "status": "completed"
    },
    "tags": []
   },
   "outputs": [],
   "source": []
  }
 ],
 "metadata": {
  "kaggle": {
   "accelerator": "gpu",
   "dataSources": [
    {
     "datasetId": 6769752,
     "sourceId": 10952155,
     "sourceType": "datasetVersion"
    }
   ],
   "dockerImageVersionId": 30918,
   "isGpuEnabled": true,
   "isInternetEnabled": true,
   "language": "python",
   "sourceType": "notebook"
  },
  "kernelspec": {
   "display_name": "Python 3",
   "language": "python",
   "name": "python3"
  },
  "language_info": {
   "codemirror_mode": {
    "name": "ipython",
    "version": 3
   },
   "file_extension": ".py",
   "mimetype": "text/x-python",
   "name": "python",
   "nbconvert_exporter": "python",
   "pygments_lexer": "ipython3",
   "version": "3.10.12"
  },
  "papermill": {
   "default_parameters": {},
   "duration": 24101.072481,
   "end_time": "2025-03-20T18:10:47.374003",
   "environment_variables": {},
   "exception": null,
   "input_path": "__notebook__.ipynb",
   "output_path": "__notebook__.ipynb",
   "parameters": {},
   "start_time": "2025-03-20T11:29:06.301522",
   "version": "2.6.0"
  }
 },
 "nbformat": 4,
 "nbformat_minor": 5
}
