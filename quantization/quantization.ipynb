{
 "cells": [
  {
   "cell_type": "code",
   "execution_count": 112,
   "metadata": {},
   "outputs": [],
   "source": [
    "import torch\n",
    "import numpy as np"
   ]
  },
  {
   "cell_type": "code",
   "execution_count": 113,
   "metadata": {},
   "outputs": [],
   "source": [
    "np.random.seed(42)\n",
    "\n",
    "arr = np.random.uniform(low=100, high=500, size=100)\n",
    "\n",
    "min = np.min(arr)\n",
    "max = np.max(arr)"
   ]
  },
  {
   "cell_type": "code",
   "execution_count": 114,
   "metadata": {},
   "outputs": [
    {
     "data": {
      "text/plain": [
       "array([249.81604754, 480.28572256, 392.79757672, 339.46339368,\n",
       "       162.40745618, 162.39780813, 123.23344487, 446.47045831,\n",
       "       340.4460047 , 383.22903112])"
      ]
     },
     "execution_count": 114,
     "metadata": {},
     "output_type": "execute_result"
    }
   ],
   "source": [
    "arr[:10]"
   ]
  },
  {
   "cell_type": "code",
   "execution_count": 119,
   "metadata": {},
   "outputs": [],
   "source": [
    "def clamp(arr, lower, upper):\n",
    "    arr[arr < lower] = lower\n",
    "    arr[arr > upper] = upper\n",
    "    return arr\n",
    "\n",
    "def asymmetric_quantize_percentile(arr, percentile=99.9, bits=4):\n",
    "    max = np.percentile(arr, percentile)\n",
    "    min = np.percentile(arr, 100-percentile)\n",
    "\n",
    "    scale = (max - min) / (2**bits - 1)\n",
    "    zero_point = -1 * np.round((min / scale))\n",
    "\n",
    "    upper = (max / scale) + zero_point\n",
    "    lower = (min / scale) + zero_point \n",
    "\n",
    "    arr = np.round(((arr / scale) + zero_point))\n",
    "    arr = clamp(arr, lower, upper)\n",
    "    return arr, scale, zero_point\n",
    "\n",
    "def asymmetric_quantize(arr, bits=4):\n",
    "    min = np.min(arr)\n",
    "    max = np.max(arr)\n",
    "\n",
    "    scale = (max - min) / (2**bits - 1)\n",
    "    zero_point = -1 * np.round((min / scale))\n",
    "\n",
    "    upper = (max / scale) + zero_point\n",
    "    lower = (min / scale) + zero_point \n",
    "\n",
    "    arr = np.round(((arr / scale) + zero_point))\n",
    "    arr = clamp(arr, lower, upper)\n",
    "    return arr, scale, zero_point\n",
    "\n",
    "def asymmetric_dequantize(arr, scale, zero_point):\n",
    "    return (arr - zero_point) * scale\n",
    "\n",
    "def symmetric_quantize(arr, bits=4):\n",
    "    max = np.max(np.abs(arr))\n",
    "    scale = max / (2**(bits-1) - 1)\n",
    "    arr = np.round(arr / scale)\n",
    "    lower = - 2 ** (bits-1)\n",
    "    upper = 2 ** (bits-1) - 1\n",
    "    arr = clamp(arr, lower, upper)\n",
    "    return arr, scale\n",
    "\n",
    "def symmetric_dequantize(arr, scale):\n",
    "    return arr * scale\n",
    "\n",
    "def find_error(arr1, arr2):\n",
    "    return np.sum(np.abs(arr1 - arr2))"
   ]
  },
  {
   "cell_type": "code",
   "execution_count": 116,
   "metadata": {},
   "outputs": [
    {
     "name": "stdout",
     "output_type": "stream",
     "text": [
      "The error in assymetric quantization is : 35.80548018681516\n"
     ]
    }
   ],
   "source": [
    "quantized, scale, zero_point = asymmetric_quantize(arr, 8)\n",
    "dequantized = asymmetric_dequantize(quantized, scale, zero_point)\n",
    "print(f\"The error in assymetric quantization is : {find_error(dequantized, arr)}\")"
   ]
  },
  {
   "cell_type": "code",
   "execution_count": 117,
   "metadata": {},
   "outputs": [
    {
     "name": "stdout",
     "output_type": "stream",
     "text": [
      "The error in assymetric quantization is : 102.83849154891263\n"
     ]
    }
   ],
   "source": [
    "quantized, scale = symmetric_quantize(arr, 8)\n",
    "dequantized = symmetric_dequantize(quantized, scale)\n",
    "print(f\"The error in assymetric quantization is : {find_error(dequantized, arr)}\")"
   ]
  },
  {
   "cell_type": "code",
   "execution_count": 121,
   "metadata": {},
   "outputs": [
    {
     "name": "stdout",
     "output_type": "stream",
     "text": [
      "The error in assymetric quantization is : 40.16981129339155\n"
     ]
    }
   ],
   "source": [
    "quantized, scale, zero_point = asymmetric_quantize_percentile(arr, 99.9, 8)\n",
    "dequantized = asymmetric_dequantize(quantized, scale, zero_point)\n",
    "print(f\"The error in assymetric quantization is : {find_error(dequantized, arr)}\")"
   ]
  },
  {
   "cell_type": "code",
   "execution_count": null,
   "metadata": {},
   "outputs": [],
   "source": []
  }
 ],
 "metadata": {
  "kernelspec": {
   "display_name": "common",
   "language": "python",
   "name": "python3"
  },
  "language_info": {
   "codemirror_mode": {
    "name": "ipython",
    "version": 3
   },
   "file_extension": ".py",
   "mimetype": "text/x-python",
   "name": "python",
   "nbconvert_exporter": "python",
   "pygments_lexer": "ipython3",
   "version": "3.12.7"
  }
 },
 "nbformat": 4,
 "nbformat_minor": 2
}
